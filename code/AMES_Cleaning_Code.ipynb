{
 "cells": [
  {
   "cell_type": "markdown",
   "metadata": {},
   "source": [
    "# Project 2: AMES Cleaning & Processing File"
   ]
  },
  {
   "cell_type": "code",
   "execution_count": 1,
   "metadata": {},
   "outputs": [],
   "source": [
    "# Import the libraries\n",
    "\n",
    "import pandas as pd\n",
    "import numpy as np"
   ]
  },
  {
   "cell_type": "markdown",
   "metadata": {},
   "source": [
    "### Load the Data"
   ]
  },
  {
   "cell_type": "code",
   "execution_count": null,
   "metadata": {
    "scrolled": false
   },
   "outputs": [],
   "source": [
    "# Load the training set\n",
    "pd.set_option('display.max_rows', None)\n",
    "\n",
    "df = pd.read_csv('../datasets/train.csv')\n",
    "df.head()"
   ]
  },
  {
   "cell_type": "code",
   "execution_count": null,
   "metadata": {},
   "outputs": [],
   "source": [
    "# View size of data set\n",
    "df.shape"
   ]
  },
  {
   "cell_type": "markdown",
   "metadata": {},
   "source": [
    "<font color=blue><ul>\n",
    "        <li>There are 81 variables and 2,051 rows of data</li>\n",
    "        <li>PID ID & PID field appear to just be unique main and sub identifiers</li>\n",
    "        <li>There are geographical variables such as Zone, Address and Area</li>\n",
    "        <li>There is basic categorial information regarding property such year of build, residence type</li>\n",
    "        <li>There are residence feature variables such as physical descriptions, utilities, room types, land area, amenities, housing conditions</li>\n",
    "        <li>There is transactional information such as sale price and dates of transactions</li>\n",
    "     </ul></font>"
   ]
  },
  {
   "cell_type": "code",
   "execution_count": null,
   "metadata": {
    "scrolled": true
   },
   "outputs": [],
   "source": [
    "# View correlation of all the data variables\n",
    "df.corr()"
   ]
  },
  {
   "cell_type": "markdown",
   "metadata": {},
   "source": [
    "### Data Cleaning: Initial Check"
   ]
  },
  {
   "cell_type": "code",
   "execution_count": null,
   "metadata": {
    "scrolled": false
   },
   "outputs": [],
   "source": [
    "# View of datatypes and check for null values\n",
    "df.info()"
   ]
  },
  {
   "cell_type": "code",
   "execution_count": null,
   "metadata": {
    "scrolled": true
   },
   "outputs": [],
   "source": [
    "# Check for nulls\n",
    "df.isnull().sum()"
   ]
  },
  {
   "cell_type": "markdown",
   "metadata": {},
   "source": [
    "<font color=blue>\n",
    "There are null fields for the 26 features:<br \\>   \n",
    "    <ol>\n",
    "        <li>Lot Frontage 330</li>\n",
    "        <li>Alley 1911</li>\n",
    "        <li>Mas Vnr Type 22</li>\n",
    "        <li>Mas Vnr Area 22</li>\n",
    "        <li>Bsmt Qual 55</li>\n",
    "        <li>Bsmt Cond 55</li>\n",
    "        <li>Bsmt Exposure 58</li>\n",
    "        <li>BsmtFin Type 1 55</li>\n",
    "        <li>BsmtFin SF 1 1</li>\n",
    "        <li>BsmtFin Type 2 56</li>\n",
    "        <li>BsmtFin SF 2 1</li>\n",
    "        <li>Bsmt Unf SF 1</li>\n",
    "        <li>Total Bsmt SF 1</li>\n",
    "        <li>Bsmt Full Bath 2</li>        \n",
    "        <li>Bsmt Half Bath 2</li>    \n",
    "        <li>Fireplace Qu 1000</li>   \n",
    "        <li>Garage Type 113</li>   \n",
    "        <li>Garage Yr Blt 114</li>   \n",
    "        <li>Garage Finish 114</li>   \n",
    "        <li>Garage Cars 1</li>   \n",
    "        <li>Garage Area 1</li>   \n",
    "        <li>Garage Qual 114</li>   \n",
    "        <li>Garage Cond 114</li>   \n",
    "        <li>Pool QC 2064</li>   \n",
    "        <li>Fence 1651</li>   \n",
    "        <li>Misc Feature 1986</li> \n",
    "     </ol>\n",
    "</font>"
   ]
  },
  {
   "cell_type": "markdown",
   "metadata": {},
   "source": [
    "<font color=blue>\n",
    "It is imperative the data sorting has to analyzed from several aspects. There firstly is the need to understand what the header data might really refer and to also know what the values really mean. There appears be a mix of numerical date (discrete and continuous) and also categorical date (nominal and ordinal). These should be fully understood before attempting to clean the data.\n",
    "</font>"
   ]
  },
  {
   "cell_type": "markdown",
   "metadata": {},
   "source": [
    "<font color=blue>Through research I compiled a preliminary dictionary of the terms and description for each variable to better understand how to approach the cleaning.</font>\n",
    "<font>\n",
    "    \n",
    "    \n",
    "<b>AMES Data Dictionary (before cleaning)</b>\n",
    "    \n",
    "|Feature                        |Type    |Dataset|Description|Class of Data|Missing Data Number\n",
    "|:-----------------------       |:---    |:---|:---|:----|:----\n",
    "|<b>ID</b>                      |integer |Train|Identifier|Discrete|\n",
    "|<b>PID</b>                     |integer |Train|Identifier|Discrete|\n",
    "|<b>MS SubClass</b>             |integer |Train|Identifies the type of dwelling involved in the sale.|Nominal|\n",
    "|<b>MS Zoning</b>               |object  |Train|Identifies the general zoning classification of the sale.|Nominal\n",
    "|<b>Lot Frontage</b>            |float   |Train|Linear feet of street connected to property|Continuous|330\n",
    "|<b>Lot Area</b>                |integer |Train|Lot size in square feet|Discrete\n",
    "|<b>Street</b>                  |object |Train|Type of road access to property|Nominal\n",
    "|<b>Alley</b>                   |object |Train|Type of alley access to property|Nominal (NA is to be kept)|1911\n",
    "|<b>Lot Shape</b>               |object |Train|General shape of property|Ordinal\n",
    "|<b>Land Contour</b>            |object |Train|Flatness of the property|Nominal\n",
    "|<b>Utilities</b>               |object |Train|Type of utilities available|Ordinal\n",
    "|<b>Lot Config</b>              |object |Train|Lot configuration|Nominal\n",
    "|<b>Land Slope</b>              |object |Train|Slope of property|Ordinal\n",
    "|<b>Neighborhood</b>              |object |Train|Physical locations within Ames city limits|Nominal\n",
    "|<b>Condition 1</b>              |object |Train|Proximity to various conditions|Nominal\n",
    "|<b>Condition 2</b>              |object |Train|Proximity to various conditions (if more than one is present)|Nominal\n",
    "|<b>Bldg Type</b>              |object |Train|Type of dwelling|Nominal\n",
    "|<b>House Style</b>              |object|Train|Style of dwelling|Nominal\n",
    "|<b>Overall Qual</b>              |integer|Train|Rates the overall material and finish of the house|Ordinal\n",
    "|<b>Overall Cond</b>              |integer|Train|Rates the overall condition of the house|Ordinal\n",
    "|<b>Year Built</b>              |integer |Train|Original construction date|Discrete\n",
    "|<b>Year Remod/Add</b>              |integer |Train|Remodel date|Discrete\n",
    "|<b>Roof Style</b>              |object|Train|Type of roof|Nominal\n",
    "|<b>Roof Matl</b>              |object|Train|Roof material|Nominal\n",
    "|<b>Exterior 1st</b>              |object |Train|Exterior covering on house|Nominal\n",
    "|<b>Exterior 2nd</b>              |object |Train|Exterior covering on house (if more than one material)|Nominal\n",
    "|<b>Mas Vnr Type</b>              |object|Train|Masonry veneer type|Nominal|22\n",
    "|<b>Mas Vnr Area</b>              |float |Train|Masonry veneer area in square feet|Continuous|22\n",
    "|<b>Exter Qual</b>              |object  |Train|Evaluates the quality of the material on the exterior|Ordinal\n",
    "|<b>Exter Cond</b>              |object  |Train|Evaluates the present condition of the material on the exterior|Ordinal\n",
    "|<b>Foundation</b>              |object  |Train|Type of foundation|Nominal\n",
    "|<b>Bsmt Qual</b>              |object  |Train|Evaluates the height of the basement|Ordinal (NA is to be kept)|55\n",
    "|<b>Bsmt Cond</b>              |object  |Train|Evaluates the general condition of the basement|Ordinal (NA is to be kept)|55\n",
    "|<b>Bsmt Exposure</b>              |object  |Train|Refers to walkout or garden level walls|Ordinal (NA is to be kept)|58\n",
    "|<b>BsmtFin Type 1</b>              |object  |Train|Rating of basement finished area|Ordinal (NA is to be kept)|55\n",
    "|<b>BsmtFin SF 1</b>              |float|Train|Type 1 finished square feet|Continuous|1\n",
    "|<b>BsmtFin Type 2</b>              |object |Train|Rating of basement finished area (if multiple types)|Ordinal (NA is to be kept)|56\n",
    "|<b>BsmtFin SF 2</b>              |float |Train|Type 2 finished square feet|Continuous|1\n",
    "|<b>Bsmt Unf SF</b>              |float|Train|Unfinished square feet of basement area|Continuous|1\n",
    "|<b>Total Bsmt SF</b>              |float|Train|Total square feet of basement area|Continuous|1\n",
    "|<b>Heating</b>              |object|Train|Type of heating|Nominal\n",
    "|<b>Heating QC</b>              |object |Train|Heating quality and condition|Ordinal\n",
    "|<b>Central Air</b>              |object |Train|Central air conditioning|Nominal\n",
    "|<b>Electrical</b>              |object |Train|Electrical system|Ordinal\n",
    "|<b>1st Flr SF</b>              |integer |Train|First Floor square feet|Discrete\n",
    "|<b>2nd Flr SF</b>              |integer |Train|Second floor square feet|Discrete\n",
    "|<b>Low Qual Fin SF</b>              |integer |Train|Low quality finished square feet (all floors)|Discrete\n",
    "|<b>Gr Liv Area </b>              |integer |Train|Above grade (ground) living area square feet|Discrete\n",
    "|<b>Bsmt Full Bath</b>              |float |Train|Basement full bathrooms|Continuous|2\n",
    "|<b>Bsmt Half Bath</b>              |float |Train|Basement half bathrooms|Continuous|2\n",
    "|<b>Full Bath</b>              |integer |Train|Full bathrooms above grade|Discrete\n",
    "|<b>Half Bath</b>              |integer |Train|Half baths above grade|Discrete\n",
    "|<b>Bedroom AbvGr</b>              |integer |Train|Bedrooms above grade (does NOT include basement bedrooms)|Discrete\n",
    "|<b>Kitchen AbvGr</b>              |integer |Train|Kitchens above grade|Discrete\n",
    "|<b>Kitchen Qual</b>              |object |Train|Kitchen quality|Ordinal\n",
    "|<b>TotRms AbvGrd</b>              |integer |Train|Total rooms above grade (does not include bathrooms)|Discrete\n",
    "|<b>Functional</b>              |object  |Train|Home functionality (Assume typical unless deductions are warranted)|Ordinal\n",
    "|<b>Fireplaces</b>              |integer |Train|Number of fireplaces|Discrete\n",
    "|<b>Fireplace Qu</b>              |object  |Train|Fireplace quality|Ordinal (NA is to be kept)|1000\n",
    "|<b>Garage Type</b>              |object  |Train|Garage location|Nominal (NA is to be kept)|113\n",
    "|<b>Garage Yr Blt</b>              |float|Train|Year garage was built|Continuous|114\n",
    "|<b>Garage Finish</b>              |object |Train|Interior finish of the garage|Ordinal (NA is to be kept)|114\n",
    "|<b>Garage Cars</b>              |float |Train|Size of garage in car capacity|Continuous|1\n",
    "|<b>Garage Area</b>              |float |Train|Size of garage in square feet|Continuous|1\n",
    "|<b>Garage Qual</b>              |object  |Train|Garage quality|Ordinal (NA is to be kept)|114\n",
    "|<b>Garage Cond</b>              |object  |Train|Garage condition|Ordinal (NA is to be kept)|114\n",
    "|<b>Paved Drive</b>              |object  |Train|Paved driveway|Ordinal\n",
    "|<b>Wood Deck SF</b>              |integer |Train|Wood deck area in square feet|Discrete\n",
    "|<b>Open Porch SF</b>              |integer |Train|Open porch area in square feet|Discrete\n",
    "|<b>Enclosed Porch</b>              |integer |Train|Enclosed porch area in square feet|Discrete\n",
    "|<b>3Ssn Porch</b>              |integer |Train|Three season porch area in square feet|Discrete\n",
    "|<b>Screen Porch</b>              |integer |Train|Screen porch area in square feet|Discrete\n",
    "|<b>Pool Area</b>              |integer |Train|Pool area in square feet|Discrete\n",
    "|<b>Pool QC</b>              |object |Train|Pool quality|Ordinal (NA is to be kept)|2064\n",
    "|<b>Fence</b>              |object  |Train|Fence quality|Ordinal (NA is to be kept)|1651    \n",
    "|<b>Misc Feature</b>              |object  |Train|Miscellaneous feature not covered in other categories|Nominal (NA is to be kept)|1986     \n",
    "|<b>Misc Val</b>              |integer |Train|$Value of miscellaneous feature|Discrete    \n",
    "|<b>Mo Sold</b>              |integer |Train|Month Sold (MM)| Nominal  \n",
    "|<b>Yr Sold</b>              |integer |Train|Year Sold (YYYY)|Discrete\n",
    "|<b>Sale Type</b>              |object  |Train|Type of sale|Nominal    \n",
    "|<b>SalePrice</b>              |integer |Train|Sale price of the property|Discrete\n",
    "</font>"
   ]
  },
  {
   "cell_type": "markdown",
   "metadata": {},
   "source": [
    "<font color=blue>\n",
    "From the above, it can be observed that 14 out of 26 variables are false null hits as NA is part of a categorical result. Out of the 14, 3 are nominal data. Hence those NA results for the 12 ordinal categories will be assigned a zero score during ordinal encoding.<br \\>\n",
    "    <br \\>\n",
    "There are 25 Discrete variables, 11 Continuous variables, 22 Nominal variables & 23 Ordinal variables.\n",
    "</font>"
   ]
  },
  {
   "cell_type": "markdown",
   "metadata": {},
   "source": [
    "### Treatment of Null Values"
   ]
  },
  {
   "cell_type": "markdown",
   "metadata": {},
   "source": [
    "<font color=blue>\n",
    "We first start with \"Lot Frontage\". There is a sizeable number of null values (330) and one cannot make assumption that the values are zero as it is inconceivable that the property would be next to no road and proof of this is that all of them are tagged with pavement or gravel suggesting the presence of a street.\n",
    "<br \\>   \n",
    "    \n",
    "The 34% correlation with the sales price shows that the this dataset has some value to the analysis and dropping this feature or the 330 data rows would not be advisable.\n",
    "    \n",
    "Correlation values show that lot frontage has the closest correlation to the lot area (57%).\n",
    "    \n",
    "In view of the above factors, a decision has been made to find an impute the missing values with the mean lot frontage values.\n",
    "\n",
    "</font>"
   ]
  },
  {
   "cell_type": "code",
   "execution_count": null,
   "metadata": {},
   "outputs": [],
   "source": [
    "# Check mean values for \"Lot Frontage\"\n",
    "\n",
    "df['Lot Frontage'].mean()"
   ]
  },
  {
   "cell_type": "code",
   "execution_count": null,
   "metadata": {},
   "outputs": [],
   "source": [
    "# Check median values for \"Lot Frontage\"\n",
    "\n",
    "df['Lot Frontage'].median()"
   ]
  },
  {
   "cell_type": "markdown",
   "metadata": {},
   "source": [
    "<font color=blue>\n",
    "Both the mean and median do not deviate too much, then we will impute the missing values with the mean.\n",
    "</font>"
   ]
  },
  {
   "cell_type": "code",
   "execution_count": null,
   "metadata": {},
   "outputs": [],
   "source": [
    "# Perform the imputation\n",
    "\n",
    "df['Lot Frontage'] = df['Lot Frontage'].fillna(df['Lot Frontage'].mean())"
   ]
  },
  {
   "cell_type": "markdown",
   "metadata": {},
   "source": [
    "<font color=blue>\n",
    "For the null values in ['Alley'], it could point to the absence of an alley. The way to treat this would be to create a new category using with/without alleys.\n",
    "</font>"
   ]
  },
  {
   "cell_type": "code",
   "execution_count": null,
   "metadata": {
    "scrolled": true
   },
   "outputs": [],
   "source": [
    "# Fill blank values for Alley \n",
    "# Apply one-hot encoding and create new category of presence/absence of Alleys\n",
    "\n",
    "df['Alley']=df['Alley'].fillna(0)\n",
    "df['Alley_Pave'] = df['Alley'].map(lambda x: 1 if x=='Pave' else 0)\n",
    "df['Alley_Grvl'] = df['Alley'].map(lambda x: 1 if x=='Grvl' else 0)\n",
    "df['Alley'] = df['Alley'].map(lambda x: 1 if x!=0 else 0)\n",
    "\n",
    "# Verify changes\n",
    "df[['Alley','Alley_Pave','Alley_Grvl']].head(20)"
   ]
  },
  {
   "cell_type": "markdown",
   "metadata": {},
   "source": [
    "<font color=blue>\n",
    "For Mas Vnr Type & Mas Vnr Area, it is noted that the absence of a masonry veneer translates into a zero value for the type and also gives the area a zero value as well. Since the size of null values are small, an assumption will be taken to tag the blank cells as \"None\" while the corresponding area will be '0'. \n",
    "    \n",
    "There should also be a separate category created that will indicate the presence or absence of veneers\n",
    "    \n",
    "It is worth nothing that there are 3 rows that have veneer areas even in the absence of a veneer where the veneer type was zero. The values should be corrected to zero\n",
    "</font>"
   ]
  },
  {
   "cell_type": "code",
   "execution_count": null,
   "metadata": {},
   "outputs": [],
   "source": [
    "# Fill blank values for Vnr Type\n",
    "# Apply nominal one-hot encoding and create new category of presence/absence of Veneers\n",
    "\n",
    "df['Mas Vnr Type']=df['Mas Vnr Type'].fillna('None')\n",
    "df['vnr_type_brkFace'] = df['Mas Vnr Type'].map(lambda x: 1 if x=='BrkFace' else 0)\n",
    "df['vnr_type_stone'] = df['Mas Vnr Type'].map(lambda x: 1 if x=='Stone' else 0)\n",
    "df['vnr_type_brkcmn'] = df['Mas Vnr Type'].map(lambda x: 1 if x=='BrkCmn' else 0)\n",
    "df['veneer_exist'] = df['Mas Vnr Type'].map(lambda x: 1 if x!='None' else 0)\n",
    "df.drop(columns='Mas Vnr Type', axis =1, inplace=True)\n",
    "\n",
    "# Verify changes\n",
    "df[['veneer_exist','vnr_type_brkFace','vnr_type_stone','vnr_type_brkcmn']].head(5)"
   ]
  },
  {
   "cell_type": "code",
   "execution_count": null,
   "metadata": {
    "scrolled": false
   },
   "outputs": [],
   "source": [
    "# Fill all blank values of Vnr Area with zero\n",
    "df['Mas Vnr Area']=df['Mas Vnr Area'].fillna(0)"
   ]
  },
  {
   "cell_type": "code",
   "execution_count": null,
   "metadata": {},
   "outputs": [],
   "source": [
    "# Correct the 3 wrong values for veneer areas\n",
    "\n",
    "df[\"Mas Vnr Area\"].replace({1: 0}, inplace=True)\n",
    "\n",
    "# Check if values have been successfully corrected.\n",
    "df [['Mas Vnr Area','veneer_exist']].head()"
   ]
  },
  {
   "cell_type": "markdown",
   "metadata": {},
   "source": [
    "<font color=blue>\n",
    "For the Basement variables that fall under Ordinal categories, it has been verified that NA refers to <b>homes without a basement.</b><br \\>\n",
    "Rather than create a new category for existense of a basement, it will opted to use ordinal encoding and assign a score of zero to entries without a basement.Thus the values will be assigned scoring according to the best having the highest values on an integer scale, and NA lowest score.<br \\>\n",
    "<br \\>\n",
    "The following 5 ordinal categories was further evaluated to hold NA and blank values:\n",
    "    <ul>\n",
    "        <li>Bsmt Qual - 55 (54 NA / 1 blank)</li>\n",
    "        <li>Bsmt Cond - 55 (54 NA / 1 blank)</li>\n",
    "        <li>Bsmt Exposure - 58 (54 NA / 4 blanks)</li> \n",
    "        <li>BsmtFin Type 1 - 55 (54 NA / 1 blank)</li>\n",
    "        <li>BsmtFin Type 2 - 56 (54 NA / 2 blanks)</li> \n",
    "    </ul>\n",
    "There is another unusual observation: The <font color=black><b>\"basement exposure values\" of 58</b></font> and <font color=black><b>\"Rating of basement finished area\" of 56</b></font> do not seem to match up with the 55 missing basements from the other categories of Basement Quality, Condition and Finishing type. Should it not be that the absence of a basement would extend to both basement exposure and finishing type as well?\n",
    "    \n",
    "Since it has been identified that most of blanks rows are missing several values and given they are negligible in scheme of data, a choice will be made to drop the few affected rows rather than impute data.\n",
    "    \n",
    "It is also observed that dropping the affected row will also eliminate the null value problem for 10 other categories.\n",
    "</font>"
   ]
  },
  {
   "cell_type": "code",
   "execution_count": null,
   "metadata": {
    "scrolled": true
   },
   "outputs": [],
   "source": [
    "# Remove affected rows with blanks\n",
    "\n",
    "df.drop(df[df['Id'] == 445].index , inplace=True)\n",
    "df.drop(df[df['Id'] == 1342].index , inplace=True)\n",
    "df.drop(df[df['Id'] == 1797].index , inplace=True)\n",
    "df.drop(df[df['Id'] == 2780].index , inplace=True)"
   ]
  },
  {
   "cell_type": "code",
   "execution_count": null,
   "metadata": {},
   "outputs": [],
   "source": [
    "# Fill null values and encode 'Bsmt Qual'\n",
    "\n",
    "df['Bsmt Qual']=df['Bsmt Qual'].fillna('None')\n",
    "mapping_BQ = {'Ex':5,'Gd':4,'TA':3,'Fa':2,'Po':1,'None':0}\n",
    "df['Bsmt Qual'] = df['Bsmt Qual'].replace(mapping_BQ)"
   ]
  },
  {
   "cell_type": "code",
   "execution_count": null,
   "metadata": {},
   "outputs": [],
   "source": [
    "# Fill null values and encode 'Bsmt Cond'\n",
    "\n",
    "df['Bsmt Cond']=df['Bsmt Cond'].fillna('None')\n",
    "mapping_BC = {'Ex':5,'Gd':4,'TA':3,'Fa':2,'Po':1,'None':0}\n",
    "df['Bsmt Cond'] = df['Bsmt Cond'].replace(mapping_BC)"
   ]
  },
  {
   "cell_type": "code",
   "execution_count": null,
   "metadata": {},
   "outputs": [],
   "source": [
    "# Fill null values and encode 'Bsmt Exposure'\n",
    "\n",
    "df['Bsmt Exposure']=df['Bsmt Exposure'].fillna('None')\n",
    "mapping_BE = {'Gd':4,'Av':3,'Mn':2,'No':1,'None':0}\n",
    "df['Bsmt Exposure'] = df['Bsmt Exposure'].replace(mapping_BE)"
   ]
  },
  {
   "cell_type": "code",
   "execution_count": null,
   "metadata": {},
   "outputs": [],
   "source": [
    "# Fill null values and encode 'BsmtFin Type 1'\n",
    "\n",
    "df['BsmtFin Type 1']=df['BsmtFin Type 1'].fillna('None')\n",
    "mapping_BF1 = {'GLQ':6,'ALQ':5,'BLQ':4,'Rec':3,'LwQ':2,'Unf':1,'None':0}\n",
    "df['BsmtFin Type 1'] = df['BsmtFin Type 1'].replace(mapping_BF1)"
   ]
  },
  {
   "cell_type": "code",
   "execution_count": null,
   "metadata": {},
   "outputs": [],
   "source": [
    "# Fill null values and encode 'BsmtFin Type 2'\n",
    "\n",
    "df['BsmtFin Type 2']=df['BsmtFin Type 2'].fillna('None')\n",
    "mapping_BF2 ={'GLQ':6,'ALQ':5,'BLQ':4,'Rec':3,'LwQ':2,'Unf':1,'None':0}\n",
    "df['BsmtFin Type 2'] = df['BsmtFin Type 2'].replace(mapping_BF2)"
   ]
  },
  {
   "cell_type": "code",
   "execution_count": null,
   "metadata": {},
   "outputs": [],
   "source": [
    "# Let us check null values again to see a more accurate representation after the removed rows\n",
    "\n",
    "df.isnull().sum()"
   ]
  },
  {
   "cell_type": "markdown",
   "metadata": {},
   "source": [
    "<font color=blue>\n",
    "For Bsmt Full Bath & Bsmt Half Bath, the affected row has no basement, so null values should be assigned zero.\n",
    "    \n",
    "Secondly,Bsmt Full Bath & Bsmt Half Bath, both figures are actually discrete and should be changed to integer format after the null fix.\n",
    "</font>"
   ]
  },
  {
   "cell_type": "code",
   "execution_count": null,
   "metadata": {},
   "outputs": [],
   "source": [
    "df['Bsmt Full Bath']=df['Bsmt Full Bath'].fillna(0)\n",
    "df['Bsmt Half Bath']=df['Bsmt Half Bath'].fillna(0)"
   ]
  },
  {
   "cell_type": "code",
   "execution_count": null,
   "metadata": {},
   "outputs": [],
   "source": [
    "df[['Bsmt Full Bath', 'Bsmt Half Bath']] = df[['Bsmt Full Bath', 'Bsmt Half Bath']].astype(int)"
   ]
  },
  {
   "cell_type": "markdown",
   "metadata": {},
   "source": [
    "<font color=blue>For the \"Fireplace Quality\" variables that fall under Ordinal categories, it has been verified that NA refers to having no fireplace. The same treatment for basements will be applied where a score of zero is assigned to entries without a fireplace. </font>"
   ]
  },
  {
   "cell_type": "code",
   "execution_count": null,
   "metadata": {},
   "outputs": [],
   "source": [
    "# Fill null values and encode 'Fireplace Qu'\n",
    "\n",
    "df['Fireplace Qu']=df['Fireplace Qu'].fillna('None')\n",
    "mapping_FQ = {'Ex':5,'Gd':4,'TA':3,'Fa':2,'Po':1,'None':0}\n",
    "df['Fireplace Qu'] = df['Fireplace Qu'].replace(mapping_FQ)"
   ]
  },
  {
   "cell_type": "markdown",
   "metadata": {},
   "source": [
    "<font color=blue>For the Garage related variables (Garage Year Built, Garage Finish, Garage Qual, Garage Cond), the NA refers to having no garage. The same treatment for basements will be applied where a score of zero is assigned to entries without a garage. One of the entries will be dropped because it is indeterminate of whether it has a garage or not.</font>"
   ]
  },
  {
   "cell_type": "code",
   "execution_count": null,
   "metadata": {},
   "outputs": [],
   "source": [
    "# Drop row with too many indeterminates\n",
    "\n",
    "df.drop(df[df['Id'] == 2237].index , inplace=True)"
   ]
  },
  {
   "cell_type": "code",
   "execution_count": null,
   "metadata": {},
   "outputs": [],
   "source": [
    "# For Garage Type, nominal data to be dummy encoded.\n",
    "# Fill null values and encode 'Garage Type'\n",
    "# Drop 'Garage Type' column and rename the dummy columns to reference original parent column\n",
    "\n",
    "df['Garage Type']=df['Garage Type'].fillna('no_garage')\n",
    "GT = pd.get_dummies(df['Garage Type'], drop_first=True)\n",
    "df= pd.concat([df, GT], axis = 1)\n",
    "df.drop(columns='Garage Type', axis =1, inplace=True)\n",
    "df = df.rename(columns={\"2Types\":\"garagetype_2types\",\"Attchd\": \"garagetype_attchd\",\"Basment\":\"garagetype_basment\",\"BuiltIn\":\"garagetype_builtin\",\"CarPort\":\"garagetype_carport\",\"Detchd\":\"garagetype_detchd\",\"no_garage\":\"garagetype_none\"})"
   ]
  },
  {
   "cell_type": "code",
   "execution_count": null,
   "metadata": {},
   "outputs": [],
   "source": [
    "# For the Garage Yr Blt, blank values means there was no garage.\n",
    "# Hence a zero value will be assigned to the houses with no garages built.\n",
    "df['Garage Yr Blt'] = df['Garage Yr Blt'].fillna(0)\n",
    "\n",
    "# Secondly, one of the values has an error with a year of 2207 which is not possible\n",
    "# Since house was remodeled in 2007, we will assume it was a typo error and garage year should be 2007\n",
    "df['Garage Yr Blt'].mask(df['Garage Yr Blt'] == 2207, 2007, inplace=True)\n",
    "\n",
    "# Also the Garage Year is more of an discrete value than a float, hence a change to integer type.\n",
    "df['Garage Yr Blt'] = df['Garage Yr Blt'].astype(int)"
   ]
  },
  {
   "cell_type": "code",
   "execution_count": null,
   "metadata": {},
   "outputs": [],
   "source": [
    "# Fill null values and ordinal encode 'Garage Finish'\n",
    "\n",
    "df['Garage Finish']=df['Garage Finish'].fillna('None')\n",
    "mapping_GF = {'Fin':3,'RFn':2,'Unf':1,'None':0}\n",
    "df['Garage Finish'] = df['Garage Finish'].replace(mapping_GF)"
   ]
  },
  {
   "cell_type": "code",
   "execution_count": null,
   "metadata": {},
   "outputs": [],
   "source": [
    "# Fill null values and ordinalencode 'Garage Qual'\n",
    "\n",
    "df['Garage Qual']=df['Garage Qual'].fillna('None')\n",
    "mapping_GQ = {'Ex':5,'Gd':4,'TA':3,'Fa':2,'Po':1,'None':0}\n",
    "df['Garage Qual'] = df['Garage Qual'].replace(mapping_GQ)"
   ]
  },
  {
   "cell_type": "code",
   "execution_count": null,
   "metadata": {},
   "outputs": [],
   "source": [
    "# Fill null values and ordinal encode 'Garage Cond'\n",
    "\n",
    "df['Garage Cond']=df['Garage Cond'].fillna('None')\n",
    "mapping_GC = {'Ex':5,'Gd':4,'TA':3,'Fa':2,'Po':1,'None':0}\n",
    "df['Garage Cond'] = df['Garage Cond'].replace(mapping_GC)"
   ]
  },
  {
   "cell_type": "markdown",
   "metadata": {},
   "source": [
    "<font color=blue>For the \"Pool QC\" variable that falls under Ordinal categories, it has been verified that NA refers to having no pool. The same treatment for basements will be applied where a score of zero is assigned to entries without a pool.</font>"
   ]
  },
  {
   "cell_type": "code",
   "execution_count": null,
   "metadata": {},
   "outputs": [],
   "source": [
    "# Fill null values and ordinal encode 'Pool QC'\n",
    "\n",
    "df['Pool QC']=df['Pool QC'].fillna('None')\n",
    "mapping_PQ = {'Ex':4,'Gd':3,'TA':2,'Fa':1,'None':0}\n",
    "df['Pool QC'] = df['Pool QC'].replace(mapping_PQ)"
   ]
  },
  {
   "cell_type": "markdown",
   "metadata": {},
   "source": [
    "<font color=blue>For the \"Fence\" variable that falls under Ordinal categories, it has been verified that NA refers to having no fences. The same treatment for basements will be applied where a score of zero is assigned to entries without a fence. </font>"
   ]
  },
  {
   "cell_type": "code",
   "execution_count": null,
   "metadata": {},
   "outputs": [],
   "source": [
    "# Fill null values and ordinal encode 'Fence'\n",
    "\n",
    "df['Fence']=df['Fence'].fillna('None')\n",
    "mapping_FC = {'GdPrv':4,'MnPrv':3,'GdWo':2,'MnWw':1,'None':0}\n",
    "df['Fence'] = df['Fence'].replace(mapping_FC)"
   ]
  },
  {
   "cell_type": "markdown",
   "metadata": {},
   "source": [
    "<font color=blue>For the \"Misc Feature\" variable that falls under Nominal categories, it has been verified that NA refers to having no features at all.</font>"
   ]
  },
  {
   "cell_type": "code",
   "execution_count": null,
   "metadata": {},
   "outputs": [],
   "source": [
    "# For Misc Feature, nominal data to be dummy encoded.\n",
    "# Fill null values and encode 'Misc Feature'\n",
    "# Drop 'Misc Feature' column and rename the dummy columns to reference original parent column\n",
    "\n",
    "df['Misc Feature']=df['Misc Feature'].fillna('no_feature')\n",
    "MF = pd.get_dummies(df['Misc Feature'], drop_first=True)\n",
    "df= pd.concat([df, MF], axis = 1)\n",
    "df.drop(columns='Misc Feature', axis =1, inplace=True)\n",
    "df = df.rename(columns={\"Elev\":\"misc_feature_elev\",\"Gar2\": \"misc_feature_gar2\",\"Othr\": \"misc_feature_Othr\",\"Shed\": \"misc_feature_Shed\",\"TenC\": \"misc_feature_TenC\",'no_feature':'misc_feature_none'})"
   ]
  },
  {
   "cell_type": "markdown",
   "metadata": {},
   "source": [
    "### Correcting Data Types for Area Sizes"
   ]
  },
  {
   "cell_type": "markdown",
   "metadata": {},
   "source": [
    "<font color=blue>Implement proper data formats to some area sizes that should be represented as float values</font>"
   ]
  },
  {
   "cell_type": "code",
   "execution_count": null,
   "metadata": {},
   "outputs": [],
   "source": [
    "# Following areas will be converted to float format\n",
    "\n",
    "df[['Lot Area', '1st Flr SF','2nd Flr SF','Low Qual Fin SF','Gr Liv Area','Wood Deck SF','Open Porch SF','Enclosed Porch','3Ssn Porch','Screen Porch','Pool Area']] = df[['Lot Area', '1st Flr SF','2nd Flr SF','Low Qual Fin SF','Gr Liv Area','Wood Deck SF','Open Porch SF','Enclosed Porch','3Ssn Porch','Screen Porch','Pool Area']].astype(float)"
   ]
  },
  {
   "cell_type": "markdown",
   "metadata": {},
   "source": [
    "### Encoding the remaining Nominal Variables"
   ]
  },
  {
   "cell_type": "code",
   "execution_count": null,
   "metadata": {
    "scrolled": true
   },
   "outputs": [],
   "source": [
    "df = pd.get_dummies(df, columns=['MS SubClass', 'MS Zoning','Street','Land Contour','Lot Config','Neighborhood','Condition 1','Condition 2','Bldg Type','House Style','Roof Style','Roof Matl','Exterior 1st','Exterior 2nd','Foundation','Heating','Central Air','Mo Sold','Sale Type'], drop_first=True)"
   ]
  },
  {
   "cell_type": "markdown",
   "metadata": {},
   "source": [
    "### Encoding the remaining Ordinal Variables (only the ones with text values)"
   ]
  },
  {
   "cell_type": "code",
   "execution_count": null,
   "metadata": {
    "scrolled": true
   },
   "outputs": [],
   "source": [
    "# Find description of values for 'Lot Shape'\n",
    "\n",
    "df['Lot Shape'].unique()"
   ]
  },
  {
   "cell_type": "markdown",
   "metadata": {},
   "source": [
    "<font color=blue>\n",
    "Description:<br \\>\n",
    "    Reg Regular <br \\>\n",
    "    IR1 Slightly irregular<br \\>\n",
    "    IR2 Moderately Irregular<br \\>\n",
    "    IR3 Irregular<br \\>\n",
    "</font> "
   ]
  },
  {
   "cell_type": "code",
   "execution_count": null,
   "metadata": {},
   "outputs": [],
   "source": [
    "# Encode 'Lot Shape'\n",
    "\n",
    "mapping_LTS = {'Reg':4,'IR1':3,'IR2':2,'IR3':1}\n",
    "df['Lot Shape'] = df['Lot Shape'].replace(mapping_LTS)"
   ]
  },
  {
   "cell_type": "code",
   "execution_count": null,
   "metadata": {
    "scrolled": true
   },
   "outputs": [],
   "source": [
    "# Find description of values for 'Utilities'\n",
    "\n",
    "df['Utilities'].unique()"
   ]
  },
  {
   "cell_type": "markdown",
   "metadata": {},
   "source": [
    "<font color=blue>\n",
    "Description:<br \\>\n",
    "    AllPub All public Utilities (E,G,W,& S) <br \\>\n",
    "    NoSewr Electricity, Gas, and Water (Septic Tank)<br \\>\n",
    "    NoSeWa Electricity and Gas Only<br \\>\n",
    "</font> "
   ]
  },
  {
   "cell_type": "code",
   "execution_count": null,
   "metadata": {},
   "outputs": [],
   "source": [
    "# Encode 'Utilities'\n",
    "\n",
    "mapping_UT = {'AllPub':3,'NoSewr':2,'NoSeWa':1}\n",
    "df['Utilities'] = df['Utilities'].replace(mapping_UT)"
   ]
  },
  {
   "cell_type": "code",
   "execution_count": null,
   "metadata": {
    "scrolled": true
   },
   "outputs": [],
   "source": [
    "# Find description of values for 'Land Slope'\n",
    "\n",
    "df['Land Slope'].unique()"
   ]
  },
  {
   "cell_type": "markdown",
   "metadata": {},
   "source": [
    "<font color=blue>\n",
    "Description:<br \\>\n",
    "    Gtl Gentle slope <br \\>\n",
    "    Mod Moderate Slope <br \\>\n",
    "    Sev Severe Slope<br \\>\n",
    "</font> "
   ]
  },
  {
   "cell_type": "code",
   "execution_count": null,
   "metadata": {},
   "outputs": [],
   "source": [
    "# Encode 'Land Slope'\n",
    "\n",
    "mapping_LD = {'Gtl':3,'Mod':2,'Sev':1}\n",
    "df['Land Slope'] = df['Land Slope'].replace(mapping_LD)"
   ]
  },
  {
   "cell_type": "code",
   "execution_count": null,
   "metadata": {},
   "outputs": [],
   "source": [
    "# Find description of values for 'Exter Qual'\n",
    "\n",
    "df['Exter Qual'].unique()"
   ]
  },
  {
   "cell_type": "code",
   "execution_count": null,
   "metadata": {},
   "outputs": [],
   "source": [
    "# Encode 'Exter Qual'\n",
    "\n",
    "mapping_EQ = {'Ex':4,'Gd':3,'TA':2,'Fa':1}\n",
    "df['Exter Qual'] = df['Exter Qual'].replace(mapping_EQ)"
   ]
  },
  {
   "cell_type": "code",
   "execution_count": null,
   "metadata": {},
   "outputs": [],
   "source": [
    "# Find description of values for 'Exter Cond'\n",
    "\n",
    "df['Exter Cond'].unique()"
   ]
  },
  {
   "cell_type": "code",
   "execution_count": null,
   "metadata": {},
   "outputs": [],
   "source": [
    "# Encode 'Exter Cond'\n",
    "\n",
    "mapping_EC = {'Ex':5,'Gd':4,'TA':3,'Fa':2,'Po':1}\n",
    "df['Exter Cond'] = df['Exter Cond'].replace(mapping_EC)"
   ]
  },
  {
   "cell_type": "code",
   "execution_count": null,
   "metadata": {},
   "outputs": [],
   "source": [
    "# Find description of values for 'Heating QC'\n",
    "\n",
    "df['Heating QC'].unique()"
   ]
  },
  {
   "cell_type": "code",
   "execution_count": null,
   "metadata": {},
   "outputs": [],
   "source": [
    "# Encode 'Heating QC'\n",
    "\n",
    "mapping_HQ = {'Ex':5,'Gd':4,'TA':3,'Fa':2,'Po':1}\n",
    "df['Heating QC'] = df['Heating QC'].replace(mapping_HQ)"
   ]
  },
  {
   "cell_type": "code",
   "execution_count": null,
   "metadata": {},
   "outputs": [],
   "source": [
    "# Find description of values for 'Kitchen Qual'\n",
    "\n",
    "df['Kitchen Qual'].unique()"
   ]
  },
  {
   "cell_type": "code",
   "execution_count": null,
   "metadata": {},
   "outputs": [],
   "source": [
    "# Encode 'Kitchen Qual'\n",
    "\n",
    "mapping_KQ = {'Ex':5,'Gd':4,'TA':3,'Fa':2,'Po':1}\n",
    "df['Kitchen Qual'] = df['Kitchen Qual'].replace(mapping_KQ)"
   ]
  },
  {
   "cell_type": "code",
   "execution_count": null,
   "metadata": {},
   "outputs": [],
   "source": [
    "# Find description of values for 'Electrical'\n",
    "\n",
    "df['Electrical'].unique()"
   ]
  },
  {
   "cell_type": "markdown",
   "metadata": {},
   "source": [
    "<font color=blue>\n",
    "Description:<br \\>\n",
    "    SBrkr Standard Circuit Breakers & Romex <br \\>\n",
    "    FuseA Fuse Box over 60 AMP and all Romex wiring (Average) <br \\>\n",
    "    FuseF 60 AMP Fuse Box and mostly Romex wiring (Fair)<br \\>\n",
    "    FuseP 60 AMP Fuse Box and mostly knob & tube wiring (poor)<br \\>\n",
    "    Mix Mixed<br \\>\n",
    "</font> "
   ]
  },
  {
   "cell_type": "code",
   "execution_count": null,
   "metadata": {},
   "outputs": [],
   "source": [
    "# Encode 'Electrical'\n",
    "\n",
    "mapping_EL = {'SBrkr':5,'FuseA':4,'FuseF':3,'FuseP':2,'Mix':1}\n",
    "df['Electrical'] = df['Electrical'].replace(mapping_EL)"
   ]
  },
  {
   "cell_type": "code",
   "execution_count": null,
   "metadata": {},
   "outputs": [],
   "source": [
    "# Find description of values for 'Functional'\n",
    "\n",
    "df['Functional'].unique()"
   ]
  },
  {
   "cell_type": "markdown",
   "metadata": {},
   "source": [
    "<font color=blue>\n",
    "Description:<br \\>\n",
    "    Typ Typical Functionality <br \\>\n",
    "    Min1 Minor Deductions 1 <br \\>\n",
    "    Min2 Minor Deductions 2 <br \\>\n",
    "    Mod Moderate Deductions <br \\>\n",
    "    Maj1 Major Deductions 1<br \\>\n",
    "    Maj2 Major Deductions 2<br \\>\n",
    "    Sev Severely Damaged<br \\>\n",
    "    Sal Salvage only<br \\>\n",
    "</font> "
   ]
  },
  {
   "cell_type": "code",
   "execution_count": null,
   "metadata": {},
   "outputs": [],
   "source": [
    "# Encode 'Functional'\n",
    "\n",
    "mapping_FL = {'Typ':8,'Min1':7,'Min2':6,'Mod':5,'Maj1':4,'Maj2':3,'Sev':2,'Sal':1}\n",
    "df['Functional'] = df['Functional'].replace(mapping_FL)"
   ]
  },
  {
   "cell_type": "code",
   "execution_count": null,
   "metadata": {},
   "outputs": [],
   "source": [
    "# Find description of values for 'Paved Drive'\n",
    "\n",
    "df['Paved Drive'].unique()"
   ]
  },
  {
   "cell_type": "markdown",
   "metadata": {},
   "source": [
    "<font color=blue>\n",
    "Description:<br \\>\n",
    "    Y Paved <br \\>\n",
    "    P Partial Pavement <br \\>\n",
    "    N Dirt/Gravel <br \\>\n",
    "</font> "
   ]
  },
  {
   "cell_type": "code",
   "execution_count": null,
   "metadata": {},
   "outputs": [],
   "source": [
    "# Encode 'Paved Drive'\n",
    "\n",
    "mapping_PD = {'Y':3,'P':2,'N':1}\n",
    "df['Paved Drive'] = df['Paved Drive'].replace(mapping_PD)"
   ]
  },
  {
   "cell_type": "markdown",
   "metadata": {},
   "source": [
    "### Drop Unnecessary Features"
   ]
  },
  {
   "cell_type": "code",
   "execution_count": null,
   "metadata": {},
   "outputs": [],
   "source": [
    "# PID field serves no purpose in analysis since it already has ID field\n",
    "df.drop('PID',axis=1,inplace=True)\n",
    "\n",
    "\n",
    "# The following features were identified to be missing in the test set and thus serve no relevance. To be dropped.\n",
    "df.drop(['MS SubClass_150','MS Zoning_C (all)','Condition 2_Feedr','Condition 2_RRAe','Condition 2_RRAn','Condition 2_RRNn','Neighborhood_GrnHill','Neighborhood_Landmrk','Exterior 1st_CBlock','Exterior 1st_ImStucc','Exterior 1st_Stone','Exterior 2nd_Stone','misc_feature_gar2','misc_feature_TenC','Heating_OthW','Heating_Wall'],axis=1,inplace=True)"
   ]
  },
  {
   "cell_type": "markdown",
   "metadata": {},
   "source": [
    "## <font color=red>Collinear features will not be dropped for now due to use of regularization later on </font>"
   ]
  },
  {
   "cell_type": "markdown",
   "metadata": {},
   "source": [
    "### Rename and Check Columns"
   ]
  },
  {
   "cell_type": "code",
   "execution_count": null,
   "metadata": {},
   "outputs": [],
   "source": [
    "# Change names to lower case\n",
    "\n",
    "df.columns = df.columns.str.lower()"
   ]
  },
  {
   "cell_type": "code",
   "execution_count": null,
   "metadata": {
    "scrolled": false
   },
   "outputs": [],
   "source": [
    "# Show latest column information and also check for nulls\n",
    "\n",
    "df.isnull().sum()"
   ]
  },
  {
   "cell_type": "code",
   "execution_count": null,
   "metadata": {},
   "outputs": [],
   "source": [
    "df.head()"
   ]
  },
  {
   "cell_type": "markdown",
   "metadata": {},
   "source": [
    "<font color=blue>\n",
    "There are no null values and all column names are found to be unique without duplicates.\n",
    "</font> "
   ]
  },
  {
   "cell_type": "code",
   "execution_count": null,
   "metadata": {},
   "outputs": [],
   "source": [
    "df.shape"
   ]
  },
  {
   "cell_type": "markdown",
   "metadata": {},
   "source": [
    "<font color=blue>\n",
    "After the cleaning and processing, there are now 208 unique variables.\n",
    "</font> "
   ]
  },
  {
   "cell_type": "markdown",
   "metadata": {},
   "source": [
    "### Save Data"
   ]
  },
  {
   "cell_type": "code",
   "execution_count": null,
   "metadata": {},
   "outputs": [],
   "source": [
    "# Saving the cleaned training data to a new file\n",
    "\n",
    "df.to_csv('../datasets/train_cleaned.csv',index=False)"
   ]
  },
  {
   "cell_type": "markdown",
   "metadata": {},
   "source": [
    "### Apply Changes to Test Data"
   ]
  },
  {
   "cell_type": "code",
   "execution_count": null,
   "metadata": {},
   "outputs": [],
   "source": [
    "# Load the test data set\n",
    "dft = pd.read_csv('../datasets/test.csv')\n",
    "dft.head()"
   ]
  },
  {
   "cell_type": "code",
   "execution_count": null,
   "metadata": {},
   "outputs": [],
   "source": [
    "# Check for nulls\n",
    "dft.isnull().sum()"
   ]
  },
  {
   "cell_type": "markdown",
   "metadata": {},
   "source": [
    "### Apply the same corrections to test data"
   ]
  },
  {
   "cell_type": "code",
   "execution_count": null,
   "metadata": {},
   "outputs": [],
   "source": [
    "dft['Lot Frontage'] = dft['Lot Frontage'].fillna(dft['Lot Frontage'].mean())\n",
    "\n",
    "dft['Alley']=dft['Alley'].fillna(0)\n",
    "dft['Alley_Pave'] = dft['Alley'].map(lambda x: 1 if x=='Pave' else 0)\n",
    "dft['Alley_Grvl'] = dft['Alley'].map(lambda x: 1 if x=='Grvl' else 0)\n",
    "dft['Alley'] = dft['Alley'].map(lambda x: 1 if x!=0 else 0)\n",
    "\n",
    "dft['Mas Vnr Type']=dft['Mas Vnr Type'].fillna('None')\n",
    "dft['vnr_type_brkFace'] = dft['Mas Vnr Type'].map(lambda x: 1 if x=='BrkFace' else 0)\n",
    "dft['vnr_type_stone'] = dft['Mas Vnr Type'].map(lambda x: 1 if x=='Stone' else 0)\n",
    "dft['vnr_type_brkcmn'] = dft['Mas Vnr Type'].map(lambda x: 1 if x=='BrkCmn' else 0)\n",
    "dft['veneer_exist'] = dft['Mas Vnr Type'].map(lambda x: 1 if x!='None' else 0)\n",
    "dft.drop(columns='Mas Vnr Type', axis =1, inplace=True)\n",
    "\n",
    "dft['Mas Vnr Area']=dft['Mas Vnr Area'].fillna(0)\n",
    "\n",
    "dft['Bsmt Qual']=dft['Bsmt Qual'].fillna('None')\n",
    "mapping_BQ = {'Ex':5,'Gd':4,'TA':3,'Fa':2,'Po':1,'None':0}\n",
    "dft['Bsmt Qual'] = dft['Bsmt Qual'].replace(mapping_BQ)\n",
    "\n",
    "dft['Bsmt Cond']=dft['Bsmt Cond'].fillna('None')\n",
    "mapping_BC = {'Ex':5,'Gd':4,'TA':3,'Fa':2,'Po':1,'None':0}\n",
    "dft['Bsmt Cond'] = dft['Bsmt Cond'].replace(mapping_BC)\n",
    "\n",
    "dft['Bsmt Exposure']=dft['Bsmt Exposure'].fillna('None')\n",
    "mapping_BE = {'Gd':4,'Av':3,'Mn':2,'No':1,'None':0}\n",
    "dft['Bsmt Exposure'] = dft['Bsmt Exposure'].replace(mapping_BE)\n",
    "\n",
    "dft['BsmtFin Type 1']=dft['BsmtFin Type 1'].fillna('None')\n",
    "mapping_BF1 = {'GLQ':6,'ALQ':5,'BLQ':4,'Rec':3,'LwQ':2,'Unf':1,'None':0}\n",
    "dft['BsmtFin Type 1'] = dft['BsmtFin Type 1'].replace(mapping_BF1)\n",
    "\n",
    "dft['BsmtFin Type 2']=dft['BsmtFin Type 2'].fillna('None')\n",
    "mapping_BF2 ={'GLQ':6,'ALQ':5,'BLQ':4,'Rec':3,'LwQ':2,'Unf':1,'None':0}\n",
    "dft['BsmtFin Type 2'] = dft['BsmtFin Type 2'].replace(mapping_BF2)\n",
    "\n",
    "# Impute the blank from \"Eletrical\"\n",
    "dft['Electrical'] = dft['Electrical'].fillna('SBrkr')\n",
    "\n",
    "dft[['Bsmt Full Bath', 'Bsmt Half Bath']] = dft[['Bsmt Full Bath', 'Bsmt Half Bath']].astype(int)\n",
    "\n",
    "dft['Fireplace Qu']=dft['Fireplace Qu'].fillna('None')\n",
    "mapping_FQ = {'Ex':5,'Gd':4,'TA':3,'Fa':2,'Po':1,'None':0}\n",
    "dft['Fireplace Qu'] = dft['Fireplace Qu'].replace(mapping_FQ)\n",
    "\n",
    "dft['Garage Type']=dft['Garage Type'].fillna('no_garage')\n",
    "GT = pd.get_dummies(dft['Garage Type'], drop_first=True)\n",
    "dft= pd.concat([dft, GT], axis = 1)\n",
    "dft.drop(columns='Garage Type', axis =1, inplace=True)\n",
    "dft = dft.rename(columns={\"2Types\":\"garagetype_2types\",\"Attchd\": \"garagetype_attchd\",\"Basment\":\"garagetype_basment\",\"BuiltIn\":\"garagetype_builtin\",\"CarPort\":\"garagetype_carport\",\"Detchd\":\"garagetype_detchd\",\"no_garage\":\"garagetype_none\"})\n",
    "\n",
    "dft['Garage Yr Blt'] = dft['Garage Yr Blt'].fillna(0)\n",
    "dft['Garage Yr Blt'] = dft['Garage Yr Blt'].astype(int)\n",
    "\n",
    "dft['Garage Finish']=dft['Garage Finish'].fillna('None')\n",
    "mapping_GF = {'Fin':3,'RFn':2,'Unf':1,'None':0}\n",
    "dft['Garage Finish'] = dft['Garage Finish'].replace(mapping_GF)\n",
    "\n",
    "dft['Garage Qual']=dft['Garage Qual'].fillna('None')\n",
    "mapping_GQ = {'Ex':5,'Gd':4,'TA':3,'Fa':2,'Po':1,'None':0}\n",
    "dft['Garage Qual'] = dft['Garage Qual'].replace(mapping_GQ)\n",
    "\n",
    "dft['Garage Cond']=dft['Garage Cond'].fillna('None')\n",
    "mapping_GC = {'Ex':5,'Gd':4,'TA':3,'Fa':2,'Po':1,'None':0}\n",
    "dft['Garage Cond'] = dft['Garage Cond'].replace(mapping_GC)\n",
    "\n",
    "dft['Pool QC']=dft['Pool QC'].fillna('None')\n",
    "mapping_PQ = {'Ex':4,'Gd':3,'TA':2,'Fa':1,'None':0}\n",
    "dft['Pool QC'] = dft['Pool QC'].replace(mapping_PQ)\n",
    "\n",
    "dft['Fence']=dft['Fence'].fillna('None')\n",
    "mapping_FC = {'GdPrv':4,'MnPrv':3,'GdWo':2,'MnWw':1,'None':0}\n",
    "dft['Fence'] = dft['Fence'].replace(mapping_FC)\n",
    "\n",
    "dft['Misc Feature']=dft['Misc Feature'].fillna('no_feature')\n",
    "MF = pd.get_dummies(dft['Misc Feature'], drop_first=True)\n",
    "dft= pd.concat([dft, MF], axis = 1)\n",
    "dft.drop(columns='Misc Feature', axis =1, inplace=True)\n",
    "dft = dft.rename(columns={\"Elev\":\"misc_feature_elev\",\"Gar2\": \"misc_feature_gar2\",\"Othr\": \"misc_feature_Othr\",\"Shed\": \"misc_feature_Shed\",\"TenC\": \"misc_feature_TenC\",'no_feature':'misc_feature_none'})\n",
    "\n",
    "dft[['Lot Area', '1st Flr SF','2nd Flr SF','Low Qual Fin SF','Gr Liv Area','Wood Deck SF','Open Porch SF','Enclosed Porch','3Ssn Porch','Screen Porch','Pool Area']] = dft[['Lot Area', '1st Flr SF','2nd Flr SF','Low Qual Fin SF','Gr Liv Area','Wood Deck SF','Open Porch SF','Enclosed Porch','3Ssn Porch','Screen Porch','Pool Area']].astype(float)\n",
    "\n",
    "dft = pd.get_dummies(dft, columns=['MS SubClass', 'MS Zoning','Street','Land Contour','Lot Config','Neighborhood','Condition 1','Condition 2','Bldg Type','House Style','Roof Style','Roof Matl','Exterior 1st','Exterior 2nd','Foundation','Heating','Central Air','Mo Sold','Sale Type'], drop_first=True)\n",
    "\n",
    "mapping_LTS = {'Reg':4,'IR1':3,'IR2':2,'IR3':1}\n",
    "dft['Lot Shape'] = dft['Lot Shape'].replace(mapping_LTS)\n",
    "\n",
    "mapping_UT = {'AllPub':3,'NoSewr':2,'NoSeWa':1}\n",
    "dft['Utilities'] = dft['Utilities'].replace(mapping_UT)\n",
    "\n",
    "mapping_LD = {'Gtl':3,'Mod':2,'Sev':1}\n",
    "dft['Land Slope'] = dft['Land Slope'].replace(mapping_LD)\n",
    "\n",
    "mapping_EQ = {'Ex':4,'Gd':3,'TA':2,'Fa':1}\n",
    "dft['Exter Qual'] = dft['Exter Qual'].replace(mapping_EQ)\n",
    "\n",
    "mapping_EC = {'Ex':5,'Gd':4,'TA':3,'Fa':2,'Po':1}\n",
    "dft['Exter Cond'] = dft['Exter Cond'].replace(mapping_EC)\n",
    "\n",
    "mapping_HQ = {'Ex':5,'Gd':4,'TA':3,'Fa':2,'Po':1}\n",
    "dft['Heating QC'] = dft['Heating QC'].replace(mapping_HQ)\n",
    "\n",
    "mapping_KQ = {'Ex':5,'Gd':4,'TA':3,'Fa':2,'Po':1}\n",
    "dft['Kitchen Qual'] = dft['Kitchen Qual'].replace(mapping_KQ)\n",
    "\n",
    "mapping_EL = {'SBrkr':5,'FuseA':4,'FuseF':3,'FuseP':2,'Mix':1}\n",
    "dft['Electrical'] = dft['Electrical'].replace(mapping_EL)\n",
    "\n",
    "mapping_FL = {'Typ':8,'Min1':7,'Min2':6,'Mod':5,'Maj1':4,'Maj2':3,'Sev':2,'Sal':1}\n",
    "dft['Functional'] = dft['Functional'].replace(mapping_FL)\n",
    "\n",
    "mapping_PD = {'Y':3,'P':2,'N':1}\n",
    "dft['Paved Drive'] = dft['Paved Drive'].replace(mapping_PD)\n",
    "\n",
    "dft.drop('PID',axis=1,inplace=True)\n",
    "\n",
    "dft.columns = dft.columns.str.lower()\n",
    "\n",
    "# The following features are not in the training set and hence should be dropped\n",
    "dft.drop('sale type_vwd',axis=1,inplace=True)\n",
    "dft.drop('exterior 1st_precast',axis=1,inplace=True)\n",
    "dft.drop('exterior 2nd_other',axis=1,inplace=True)\n",
    "dft.drop('exterior 2nd_precast',axis=1,inplace=True)\n",
    "dft.drop('heating_gasa',axis=1,inplace=True)\n"
   ]
  },
  {
   "cell_type": "code",
   "execution_count": null,
   "metadata": {
    "scrolled": true
   },
   "outputs": [],
   "source": [
    "dft.shape"
   ]
  },
  {
   "cell_type": "markdown",
   "metadata": {},
   "source": [
    "<font color=blue>\n",
    "After the cleaning and processing, test data has correct expected number of columns.\n",
    "</font> "
   ]
  },
  {
   "cell_type": "markdown",
   "metadata": {},
   "source": [
    "### Save Test Data"
   ]
  },
  {
   "cell_type": "code",
   "execution_count": null,
   "metadata": {},
   "outputs": [],
   "source": [
    "# Saving the cleaned training data to a new file\n",
    "\n",
    "dft.to_csv('../datasets/test_cleaned.csv',index=False)"
   ]
  }
 ],
 "metadata": {
  "kernelspec": {
   "display_name": "Python 3",
   "language": "python",
   "name": "python3"
  },
  "language_info": {
   "codemirror_mode": {
    "name": "ipython",
    "version": 3
   },
   "file_extension": ".py",
   "mimetype": "text/x-python",
   "name": "python",
   "nbconvert_exporter": "python",
   "pygments_lexer": "ipython3",
   "version": "3.7.6"
  }
 },
 "nbformat": 4,
 "nbformat_minor": 4
}
